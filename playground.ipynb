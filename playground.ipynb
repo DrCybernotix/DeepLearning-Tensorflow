{
  "nbformat": 4,
  "nbformat_minor": 0,
  "metadata": {
    "accelerator": "GPU",
    "colab": {
      "name": "playground.ipynb",
      "provenance": [],
      "collapsed_sections": [],
      "mount_file_id": "1pgsZVvBLAYXxXGw3Ir9Ct9WSv3Di4nfn",
      "authorship_tag": "ABX9TyPrn025J1I+A0LAFHchaRVK",
      "include_colab_link": true
    },
    "kernelspec": {
      "display_name": "Python 3",
      "name": "python3"
    },
    "language_info": {
      "name": "python"
    }
  },
  "cells": [
    {
      "cell_type": "markdown",
      "metadata": {
        "id": "view-in-github",
        "colab_type": "text"
      },
      "source": [
        "<a href=\"https://colab.research.google.com/github/DrCybernotix/DeepLearning-Tensorflow/blob/main/playground.ipynb\" target=\"_parent\"><img src=\"https://colab.research.google.com/assets/colab-badge.svg\" alt=\"Open In Colab\"/></a>"
      ]
    },
    {
      "cell_type": "code",
      "metadata": {
        "colab": {
          "base_uri": "https://localhost:8080/"
        },
        "id": "E1De6whBx9QQ",
        "outputId": "f6d09928-e916-4b09-be96-71a51722ab0a"
      },
      "source": [
        "import tensorflow as tf\n",
        "print(tf.__version__)"
      ],
      "execution_count": null,
      "outputs": [
        {
          "name": "stdout",
          "output_type": "stream",
          "text": [
            "2.6.0\n"
          ]
        }
      ]
    },
    {
      "cell_type": "code",
      "metadata": {
        "colab": {
          "base_uri": "https://localhost:8080/"
        },
        "id": "rUeaPqkayX7J",
        "outputId": "428da797-c5b7-4836-99c1-f5e51f3bc95b"
      },
      "source": [
        "any = tf.constant(9)\n",
        "any.shape"
      ],
      "execution_count": null,
      "outputs": [
        {
          "data": {
            "text/plain": [
              "TensorShape([])"
            ]
          },
          "execution_count": 2,
          "metadata": {},
          "output_type": "execute_result"
        }
      ]
    },
    {
      "cell_type": "code",
      "metadata": {
        "colab": {
          "base_uri": "https://localhost:8080/"
        },
        "id": "BVgFA6T3yi-Z",
        "outputId": "55c04aac-f3cb-4d53-a40f-3214d27e8f64"
      },
      "source": [
        "any.ndim"
      ],
      "execution_count": null,
      "outputs": [
        {
          "data": {
            "text/plain": [
              "0"
            ]
          },
          "execution_count": 3,
          "metadata": {},
          "output_type": "execute_result"
        }
      ]
    },
    {
      "cell_type": "code",
      "metadata": {
        "colab": {
          "base_uri": "https://localhost:8080/"
        },
        "id": "C3O9YeOaysqC",
        "outputId": "20776596-f1b8-4545-8cfb-6a6a796c507f"
      },
      "source": [
        "some_vec = tf.constant([11,3,33,7])\n",
        "some_vec\n",
        "#some_vec.ndim"
      ],
      "execution_count": null,
      "outputs": [
        {
          "data": {
            "text/plain": [
              "<tf.Tensor: shape=(4,), dtype=int32, numpy=array([11,  3, 33,  7], dtype=int32)>"
            ]
          },
          "execution_count": 4,
          "metadata": {},
          "output_type": "execute_result"
        }
      ]
    },
    {
      "cell_type": "code",
      "metadata": {
        "colab": {
          "base_uri": "https://localhost:8080/"
        },
        "id": "jUHMVDI1zD_C",
        "outputId": "5bfd17bb-39fb-4574-f2af-41f6836b3026"
      },
      "source": [
        "some_vec.shape"
      ],
      "execution_count": null,
      "outputs": [
        {
          "data": {
            "text/plain": [
              "TensorShape([4])"
            ]
          },
          "execution_count": 5,
          "metadata": {},
          "output_type": "execute_result"
        }
      ]
    },
    {
      "cell_type": "code",
      "metadata": {
        "colab": {
          "base_uri": "https://localhost:8080/"
        },
        "id": "X8aftqv30P7j",
        "outputId": "dd413232-f51d-491d-b48e-5d67477912c9"
      },
      "source": [
        "# Create a matrix (more than 1 dimension)\n",
        "matrix = tf.constant([[10, 7],\n",
        "                      [7, 10]])\n",
        "matrix"
      ],
      "execution_count": null,
      "outputs": [
        {
          "data": {
            "text/plain": [
              "<tf.Tensor: shape=(2, 2), dtype=int32, numpy=\n",
              "array([[10,  7],\n",
              "       [ 7, 10]], dtype=int32)>"
            ]
          },
          "execution_count": 6,
          "metadata": {},
          "output_type": "execute_result"
        }
      ]
    },
    {
      "cell_type": "code",
      "metadata": {
        "colab": {
          "base_uri": "https://localhost:8080/"
        },
        "id": "wEVpnwkkzMqy",
        "outputId": "54574f02-da4e-4020-a1c6-b4b9cb028839"
      },
      "source": [
        "# How about a tensor? (more than 2 dimensions, although, all of the above items are also technically tensors)\n",
        "tensor = tf.constant([[[1, 2, 3,1],\n",
        "                       [4, 5, 6,1]],\n",
        "                      [[7, 8, 9,1],\n",
        "                       [10, 11, 12,1]],\n",
        "                      [[13, 14, 15,1],\n",
        "                       [16, 17, 18,1]],\n",
        "                      [[7, 8, 9,1],\n",
        "                       [10,11, 12,1]],\n",
        "                      [[1, 2, 3,1],\n",
        "                       [4, 5, 6,1]]])\n",
        "tensor"
      ],
      "execution_count": null,
      "outputs": [
        {
          "data": {
            "text/plain": [
              "<tf.Tensor: shape=(5, 2, 4), dtype=int32, numpy=\n",
              "array([[[ 1,  2,  3,  1],\n",
              "        [ 4,  5,  6,  1]],\n",
              "\n",
              "       [[ 7,  8,  9,  1],\n",
              "        [10, 11, 12,  1]],\n",
              "\n",
              "       [[13, 14, 15,  1],\n",
              "        [16, 17, 18,  1]],\n",
              "\n",
              "       [[ 7,  8,  9,  1],\n",
              "        [10, 11, 12,  1]],\n",
              "\n",
              "       [[ 1,  2,  3,  1],\n",
              "        [ 4,  5,  6,  1]]], dtype=int32)>"
            ]
          },
          "execution_count": 7,
          "metadata": {},
          "output_type": "execute_result"
        }
      ]
    },
    {
      "cell_type": "code",
      "metadata": {
        "colab": {
          "base_uri": "https://localhost:8080/"
        },
        "id": "QJcGeR6q2dwc",
        "outputId": "390a8fab-fef1-4710-a281-8804356faa53"
      },
      "source": [
        "tensor.ndim"
      ],
      "execution_count": null,
      "outputs": [
        {
          "data": {
            "text/plain": [
              "3"
            ]
          },
          "execution_count": 8,
          "metadata": {},
          "output_type": "execute_result"
        }
      ]
    },
    {
      "cell_type": "code",
      "metadata": {
        "id": "hCuSV4TY-Nns"
      },
      "source": [
        "## number of entities   number of dimensions of each entity   number of elements in each entity"
      ],
      "execution_count": null,
      "outputs": []
    },
    {
      "cell_type": "code",
      "metadata": {
        "colab": {
          "base_uri": "https://localhost:8080/"
        },
        "id": "9emZuB0ZDYTl",
        "outputId": "a9d6dd0a-06c8-45bb-f486-837786b88a02"
      },
      "source": [
        "changeable = tf.Variable([10,11,12])\n",
        "changeable"
      ],
      "execution_count": null,
      "outputs": [
        {
          "data": {
            "text/plain": [
              "<tf.Variable 'Variable:0' shape=(3,) dtype=int32, numpy=array([10, 11, 12], dtype=int32)>"
            ]
          },
          "execution_count": 10,
          "metadata": {},
          "output_type": "execute_result"
        }
      ]
    },
    {
      "cell_type": "code",
      "metadata": {
        "colab": {
          "base_uri": "https://localhost:8080/"
        },
        "id": "NcTYGPpzDvZ6",
        "outputId": "4f0892ba-77f5-4918-91a8-1b5bf960a376"
      },
      "source": [
        "changeable[2].assign(99)\n",
        "changeable"
      ],
      "execution_count": null,
      "outputs": [
        {
          "data": {
            "text/plain": [
              "<tf.Variable 'Variable:0' shape=(3,) dtype=int32, numpy=array([10, 11, 99], dtype=int32)>"
            ]
          },
          "execution_count": 11,
          "metadata": {},
          "output_type": "execute_result"
        }
      ]
    },
    {
      "cell_type": "code",
      "metadata": {
        "colab": {
          "base_uri": "https://localhost:8080/"
        },
        "id": "kQWgvfYOD5uB",
        "outputId": "af806409-c047-486f-f5b8-ac1ac2ec0901"
      },
      "source": [
        "#creating two random but same tensors using same seed size ofc\n",
        "\n",
        "rnd1 = tf.random.Generator.from_seed(22)\n",
        "rnd1 = rnd1.normal(shape=(3,2))\n",
        "rnd1"
      ],
      "execution_count": null,
      "outputs": [
        {
          "data": {
            "text/plain": [
              "<tf.Tensor: shape=(3, 2), dtype=float32, numpy=\n",
              "array([[-0.7531523 ,  2.0261486 ],\n",
              "       [-0.06997604,  0.85445154],\n",
              "       [ 0.1175475 ,  0.03493892]], dtype=float32)>"
            ]
          },
          "execution_count": 12,
          "metadata": {},
          "output_type": "execute_result"
        }
      ]
    },
    {
      "cell_type": "code",
      "metadata": {
        "colab": {
          "base_uri": "https://localhost:8080/"
        },
        "id": "v_mftc8rEuDn",
        "outputId": "b6025ba8-8c44-4fb1-aeff-c43ba5616fa3"
      },
      "source": [
        "rnd2 = tf.random.Generator.from_seed(22)\n",
        "rnd2 = rnd2.normal(shape=(4,4))\n",
        "rnd2"
      ],
      "execution_count": null,
      "outputs": [
        {
          "data": {
            "text/plain": [
              "<tf.Tensor: shape=(4, 4), dtype=float32, numpy=\n",
              "array([[-0.7531523 ,  2.0261486 , -0.06997604,  0.85445154],\n",
              "       [ 0.1175475 ,  0.03493892, -1.5700307 ,  0.44575813],\n",
              "       [ 0.10944034, -0.8035768 , -1.7166729 ,  0.3738578 ],\n",
              "       [-0.14371012, -0.34646833,  1.1456194 , -0.416     ]],\n",
              "      dtype=float32)>"
            ]
          },
          "execution_count": 13,
          "metadata": {},
          "output_type": "execute_result"
        }
      ]
    },
    {
      "cell_type": "code",
      "metadata": {
        "colab": {
          "base_uri": "https://localhost:8080/"
        },
        "id": "DhGvhSOuFOdJ",
        "outputId": "1621d1b2-3ec9-45d4-883a-4f31b8a7e1a1"
      },
      "source": [
        "tf.random.shuffle(rnd1)"
      ],
      "execution_count": null,
      "outputs": [
        {
          "data": {
            "text/plain": [
              "<tf.Tensor: shape=(3, 2), dtype=float32, numpy=\n",
              "array([[-0.06997604,  0.85445154],\n",
              "       [ 0.1175475 ,  0.03493892],\n",
              "       [-0.7531523 ,  2.0261486 ]], dtype=float32)>"
            ]
          },
          "execution_count": 14,
          "metadata": {},
          "output_type": "execute_result"
        }
      ]
    },
    {
      "cell_type": "code",
      "metadata": {
        "colab": {
          "base_uri": "https://localhost:8080/"
        },
        "id": "qpdvG6NKC2NC",
        "outputId": "2533ce4b-07f0-4130-f7cf-e14339a4f225"
      },
      "source": [
        "experiment = tf.zeros([1,2,2,6])\n",
        "experiment"
      ],
      "execution_count": null,
      "outputs": [
        {
          "data": {
            "text/plain": [
              "<tf.Tensor: shape=(1, 2, 2, 6), dtype=float32, numpy=\n",
              "array([[[[0., 0., 0., 0., 0., 0.],\n",
              "         [0., 0., 0., 0., 0., 0.]],\n",
              "\n",
              "        [[0., 0., 0., 0., 0., 0.],\n",
              "         [0., 0., 0., 0., 0., 0.]]]], dtype=float32)>"
            ]
          },
          "execution_count": 15,
          "metadata": {},
          "output_type": "execute_result"
        }
      ]
    },
    {
      "cell_type": "code",
      "metadata": {
        "id": "KMdoe13UG0Ov"
      },
      "source": [
        "new_experiment = experiment[..., tf.newaxis]"
      ],
      "execution_count": null,
      "outputs": []
    },
    {
      "cell_type": "code",
      "metadata": {
        "colab": {
          "base_uri": "https://localhost:8080/",
          "height": 180
        },
        "id": "3ucPs7ClOn0n",
        "outputId": "8186a410-4fae-47fe-96c6-b141d187709c"
      },
      "source": [
        "new + 69 \n",
        "#new.numpy()"
      ],
      "execution_count": null,
      "outputs": [
        {
          "ename": "NameError",
          "evalue": "ignored",
          "output_type": "error",
          "traceback": [
            "\u001b[0;31m---------------------------------------------------------------------------\u001b[0m",
            "\u001b[0;31mNameError\u001b[0m                                 Traceback (most recent call last)",
            "\u001b[0;32m<ipython-input-17-8b550970f9ed>\u001b[0m in \u001b[0;36m<module>\u001b[0;34m()\u001b[0m\n\u001b[0;32m----> 1\u001b[0;31m \u001b[0mnew\u001b[0m \u001b[0;34m+\u001b[0m \u001b[0;36m69\u001b[0m\u001b[0;34m\u001b[0m\u001b[0;34m\u001b[0m\u001b[0m\n\u001b[0m\u001b[1;32m      2\u001b[0m \u001b[0;31m#new.numpy()\u001b[0m\u001b[0;34m\u001b[0m\u001b[0;34m\u001b[0m\u001b[0;34m\u001b[0m\u001b[0m\n",
            "\u001b[0;31mNameError\u001b[0m: name 'new' is not defined"
          ]
        }
      ]
    },
    {
      "cell_type": "code",
      "metadata": {
        "id": "Ewt1qp3RPdq-"
      },
      "source": [
        "mul1 = tf.random.Generator.from_seed(69)\n",
        "mul1 = mul1.normal(shape=(4,2))\n",
        "\n",
        "mul2 = tf.random.Generator.from_seed(40)\n",
        "mul2 = mul2.normal(shape=(2,4))\n"
      ],
      "execution_count": null,
      "outputs": []
    },
    {
      "cell_type": "code",
      "metadata": {
        "id": "6ZIBZ6_iPd6K"
      },
      "source": [
        "\n",
        "mul2"
      ],
      "execution_count": null,
      "outputs": []
    },
    {
      "cell_type": "code",
      "metadata": {
        "id": "S6GyZeRrQEap"
      },
      "source": [
        "mul1"
      ],
      "execution_count": null,
      "outputs": []
    },
    {
      "cell_type": "code",
      "metadata": {
        "id": "L2qcUDs2QL7x"
      },
      "source": [
        "tf.matmul(mul1,mul2)  #also equals mul1@mul2 gives same output"
      ],
      "execution_count": null,
      "outputs": []
    },
    {
      "cell_type": "code",
      "metadata": {
        "id": "4LeYjx1IRwKE"
      },
      "source": [
        "tf.cast(mul1, tf.int32)\n"
      ],
      "execution_count": null,
      "outputs": []
    },
    {
      "cell_type": "code",
      "metadata": {
        "id": "0NiecANvSLsJ"
      },
      "source": [
        "mul1"
      ],
      "execution_count": null,
      "outputs": []
    },
    {
      "cell_type": "code",
      "metadata": {
        "id": "gIHnRM3wS9UZ"
      },
      "source": [
        "we got tf.transpose(bla) and tf.reshape(bla) methods they change the axes but transpose takes tthe transpose and reshape arranegs the entries of the martix in our wanted manner."
      ],
      "execution_count": null,
      "outputs": []
    },
    {
      "cell_type": "code",
      "metadata": {
        "id": "kITBYzhJYVdU"
      },
      "source": [
        "tf.tensordot(mul1, mul2, axes=1)"
      ],
      "execution_count": null,
      "outputs": []
    },
    {
      "cell_type": "code",
      "metadata": {
        "id": "KIYU21OiejlR"
      },
      "source": [
        ""
      ],
      "execution_count": null,
      "outputs": []
    },
    {
      "cell_type": "code",
      "metadata": {
        "id": "Zj__f_ifc9F0"
      },
      "source": [
        "import numpy as np"
      ],
      "execution_count": null,
      "outputs": []
    },
    {
      "cell_type": "code",
      "metadata": {
        "id": "V030cb72b_-U"
      },
      "source": [
        "#create random tensor using numbers between 0 to 100 and size of 50\n",
        "rand =  tf.constant(np.random.randint(0,100, size = 50))\n",
        "rand"
      ],
      "execution_count": null,
      "outputs": []
    },
    {
      "cell_type": "code",
      "metadata": {
        "id": "nEOAuHFbdYu-"
      },
      "source": [
        "tf.reduce_mean(rand)\n",
        "tf.reduce_sum(rand)\n",
        "tf.reduce_min(rand\n",
        "              )\n",
        "tf.reduce_max(rand)"
      ],
      "execution_count": null,
      "outputs": []
    },
    {
      "cell_type": "code",
      "metadata": {
        "id": "OrGKXBUKdskk"
      },
      "source": [
        "tf.reduce_any(rand)"
      ],
      "execution_count": null,
      "outputs": []
    },
    {
      "cell_type": "code",
      "metadata": {
        "id": "6qcZ9EfzeVeK"
      },
      "source": [
        "import tensorflow_probability as tfp\n",
        "tfp.stats.variance(rand)"
      ],
      "execution_count": null,
      "outputs": []
    },
    {
      "cell_type": "code",
      "metadata": {
        "id": "Xrds1CKYgspt"
      },
      "source": [
        "f = tf.random.normal(shape=[33], dtype = tf.int32)"
      ],
      "execution_count": null,
      "outputs": []
    },
    {
      "cell_type": "code",
      "metadata": {
        "id": "Akes9gOShGVw"
      },
      "source": [
        "f = tf.random.uniform(shape=[33], dtype = tf.int32, maxval=22)"
      ],
      "execution_count": null,
      "outputs": []
    },
    {
      "cell_type": "code",
      "metadata": {
        "id": "9sVQI4rbelBs"
      },
      "source": [
        "f"
      ],
      "execution_count": null,
      "outputs": []
    },
    {
      "cell_type": "code",
      "metadata": {
        "id": "Qt03b5ZNhmLO"
      },
      "source": [
        "tf.argmax(f)"
      ],
      "execution_count": null,
      "outputs": []
    },
    {
      "cell_type": "code",
      "metadata": {
        "id": "wimKWKyghosz"
      },
      "source": [
        "f[tf.argmax(f)]\n"
      ],
      "execution_count": null,
      "outputs": []
    },
    {
      "cell_type": "code",
      "metadata": {
        "id": "YmUtG0f6iglP"
      },
      "source": [
        "\n",
        "tf.squeeze(f) #it removes the 1 i.e single dimension values from out tensro like we saw in tensor.sahpe (1,2,3,1) so after tensor.squeeze it gives output shape as tensor.shape = (2,3)"
      ],
      "execution_count": null,
      "outputs": []
    },
    {
      "cell_type": "code",
      "metadata": {
        "id": "SzDAk3fjjjzA"
      },
      "source": [
        "\n",
        "tf.one_hot(f, depth = 50)\n"
      ],
      "execution_count": null,
      "outputs": []
    },
    {
      "cell_type": "code",
      "metadata": {
        "id": "axl3HU69jj7A"
      },
      "source": [
        "gg = tf.random.uniform([3], maxval = 55, dtype = tf.int32)\n",
        "\n",
        "gg\n"
      ],
      "execution_count": null,
      "outputs": []
    },
    {
      "cell_type": "code",
      "metadata": {
        "id": "dcsXF-xWkRMt"
      },
      "source": [
        "tf.one_hot(gg)"
      ],
      "execution_count": null,
      "outputs": []
    },
    {
      "cell_type": "code",
      "metadata": {
        "id": "l9QtonylkWK0"
      },
      "source": [
        "x = tf.one_hot(gg, depth=3, dtype=tf.int32)"
      ],
      "execution_count": null,
      "outputs": []
    },
    {
      "cell_type": "code",
      "metadata": {
        "id": "s_0sHqWpkbpf"
      },
      "source": [
        "x"
      ],
      "execution_count": null,
      "outputs": []
    },
    {
      "cell_type": "code",
      "metadata": {
        "id": "kr9JXrF1lSlw"
      },
      "source": [
        "some_list = [1,2,3,4]"
      ],
      "execution_count": null,
      "outputs": []
    },
    {
      "cell_type": "code",
      "metadata": {
        "id": "EW_OJ5LTlVQS"
      },
      "source": [
        "tf.one_hot(some_list, off_value = \"content guys\", on_value=\"sheeeeeeesh\", depth = 4)"
      ],
      "execution_count": null,
      "outputs": []
    },
    {
      "cell_type": "markdown",
      "metadata": {
        "id": "xAZG3uu4qVFy"
      },
      "source": [
        "some regression\n"
      ]
    },
    {
      "cell_type": "code",
      "metadata": {
        "id": "msZoKoNhqwcM"
      },
      "source": [
        "import numpy as np\n",
        "import matplotlib.pyplot as plt\n"
      ],
      "execution_count": null,
      "outputs": []
    },
    {
      "cell_type": "code",
      "metadata": {
        "id": "ahy9xpQ1qZRw"
      },
      "source": [
        "x =  np.array([3.0,6.8,9.0,5.4,4,2,9.0])\n",
        "y =  np.array([6.0,4.8,8.0,4.4,2,2,5.0])"
      ],
      "execution_count": null,
      "outputs": []
    },
    {
      "cell_type": "code",
      "metadata": {
        "id": "zj6C2eutk3jY"
      },
      "source": [
        "plt.scatter(x,y);"
      ],
      "execution_count": null,
      "outputs": []
    },
    {
      "cell_type": "code",
      "metadata": {
        "id": "jHGDfkWKrBz_"
      },
      "source": [
        "x = tf.random.normal(shape=[1,1,5], )\n"
      ],
      "execution_count": null,
      "outputs": []
    },
    {
      "cell_type": "code",
      "metadata": {
        "id": "69BZRToet-F1"
      },
      "source": [
        "y = tf.random.normal(shape=[1,1,5], )\n"
      ],
      "execution_count": null,
      "outputs": []
    },
    {
      "cell_type": "code",
      "metadata": {
        "id": "_kiVm2dPuBfd"
      },
      "source": [
        "plt.scatter(x,y);"
      ],
      "execution_count": null,
      "outputs": []
    },
    {
      "cell_type": "code",
      "metadata": {
        "id": "phiLDa9DmOAZ"
      },
      "source": [
        "x,y"
      ],
      "execution_count": null,
      "outputs": []
    },
    {
      "cell_type": "code",
      "metadata": {
        "id": "8rIpPi-Rmcpe"
      },
      "source": [
        ""
      ],
      "execution_count": null,
      "outputs": []
    },
    {
      "cell_type": "code",
      "metadata": {
        "id": "1D-DldqLmcxy"
      },
      "source": [
        "house_info = tf.constant([\"dub\", \"dub2\", \"dub3\"])\n",
        "#house_price = tf.cast(tf.random.normal(shape=(1)), dtype = tf.int32)\n",
        "house_price = tf.constant([99999])"
      ],
      "execution_count": null,
      "outputs": []
    },
    {
      "cell_type": "code",
      "metadata": {
        "id": "7xtrvBi6myoj"
      },
      "source": [
        "input_shape = x.shape\n",
        "output_shape = y.shape\n",
        "input_shape, output_shape"
      ],
      "execution_count": null,
      "outputs": []
    },
    {
      "cell_type": "code",
      "metadata": {
        "id": "i34dLvvlqHCx"
      },
      "source": [
        "tf.random.set_seed(42)"
      ],
      "execution_count": null,
      "outputs": []
    },
    {
      "cell_type": "code",
      "metadata": {
        "id": "6kVHjzaXqHNn"
      },
      "source": [
        "model = tf.keras.Sequential(\n",
        "    [tf.keras.layers.Dense(1)]\n",
        "    )"
      ],
      "execution_count": null,
      "outputs": []
    },
    {
      "cell_type": "code",
      "metadata": {
        "id": "9ULP3Bh2qkZW"
      },
      "source": [
        "model.compile(loss=tf.keras.losses.mse,\n",
        "              optimizer = tf.keras.optimizers.SGD(),\n",
        "              metrics = [\"mse\"])"
      ],
      "execution_count": null,
      "outputs": []
    },
    {
      "cell_type": "code",
      "metadata": {
        "id": "bFTbWg3PrkUb"
      },
      "source": [
        "model.fit(x, y, epochs = 6)"
      ],
      "execution_count": null,
      "outputs": []
    },
    {
      "cell_type": "code",
      "metadata": {
        "id": "bMRpBHOTrsIy"
      },
      "source": [
        "x,y"
      ],
      "execution_count": null,
      "outputs": []
    },
    {
      "cell_type": "code",
      "metadata": {
        "id": "Z97dqdsjsn1y"
      },
      "source": [
        "model.predict([[[1.0,2.0,3.0,4.0,5.0]]])"
      ],
      "execution_count": null,
      "outputs": []
    },
    {
      "cell_type": "code",
      "metadata": {
        "id": "t_s0WPm0w58m"
      },
      "source": [
        "a = tf.constant([1,2,3,4,5,6,7,8])\n",
        "b = tf.constant([1,4,6,8,10,12,14,16])"
      ],
      "execution_count": null,
      "outputs": []
    },
    {
      "cell_type": "code",
      "metadata": {
        "id": "4f_q38niw5_M"
      },
      "source": [
        "a,b"
      ],
      "execution_count": null,
      "outputs": []
    },
    {
      "cell_type": "code",
      "metadata": {
        "id": "QGwbXRNOxJdA"
      },
      "source": [
        "#build\n",
        "modelOrWot = tf.keras.Sequential(\n",
        "    \n",
        "    [tf.keras.layers.Dense(1)]\n",
        "    \n",
        ")\n",
        "#compiling\n",
        "modelOrWot.compile(loss = tf.keras.losses.mae,\n",
        "              optimizer = tf.keras.optimizers.SGD(),\n",
        "              metrics = [\"mae\"])\n"
      ],
      "execution_count": null,
      "outputs": []
    },
    {
      "cell_type": "code",
      "metadata": {
        "id": "PBVHC3LfyrFA"
      },
      "source": [
        "\n",
        "#model fitting\n",
        "modelOrWot.fit(a, b, epochs = 100)\n"
      ],
      "execution_count": null,
      "outputs": []
    },
    {
      "cell_type": "code",
      "metadata": {
        "id": "gHV6VT2VyrlU"
      },
      "source": [
        "modelOrWot.predict([11])"
      ],
      "execution_count": null,
      "outputs": []
    },
    {
      "cell_type": "code",
      "metadata": {
        "id": "M2RijWSzyRJ6"
      },
      "source": [
        "x = tf.range(-100,100,4)\n",
        "x"
      ],
      "execution_count": null,
      "outputs": []
    },
    {
      "cell_type": "code",
      "metadata": {
        "id": "rnqS1UfR4Sxe"
      },
      "source": [
        "y = x*2\n",
        "y"
      ],
      "execution_count": null,
      "outputs": []
    },
    {
      "cell_type": "code",
      "metadata": {
        "id": "69j3NenI4anc"
      },
      "source": [
        "plt.scatter(x,y)"
      ],
      "execution_count": null,
      "outputs": []
    },
    {
      "cell_type": "code",
      "metadata": {
        "id": "bzjaGRJX5kyr"
      },
      "source": [
        "x_train = x[:40]\n",
        "y_train = y[:40]\n",
        "\n",
        "x_test = x[40:]\n",
        "y_test = y[40:]\n"
      ],
      "execution_count": null,
      "outputs": []
    },
    {
      "cell_type": "code",
      "metadata": {
        "id": "zlKNcVgz5lCs"
      },
      "source": [
        "plt.figure(figsize=(10,10))\n",
        "plt.scatter(x_train,y_train, c= 'r')\n",
        "plt.scatter(x_test, y_test, c = 'b')\n",
        "plt.legend();"
      ],
      "execution_count": null,
      "outputs": []
    },
    {
      "cell_type": "code",
      "metadata": {
        "id": "JaDW3Za49Cz9"
      },
      "source": [
        "newmod = tf.keras.Sequential(\n",
        "    tf.keras.layers.Dense(5, input_shape=[3])\n",
        "\n",
        ")\n",
        "\n",
        "\n",
        "#compiling\n",
        "#modelOrWot.compile(loss = tf.keras.losses.mae,\n",
        "#              optimizer = tf.keras.optimizers.SGD(),\n",
        "#              metrics = [\"mae\"])\n",
        "\n",
        "newmod.compile(loss = tf.keras.losses.mae,\n",
        "               optimizer = tf.keras.optimizers.SGD(),\n",
        "               metrics = [\"mae\"]\n",
        "\n",
        "             )\n",
        "\n",
        "newmod.summary()"
      ],
      "execution_count": null,
      "outputs": []
    },
    {
      "cell_type": "code",
      "metadata": {
        "id": "XB2sUi25AhNb"
      },
      "source": [
        "from tensorflow.keras.utils import plot_model\n",
        "#plot_model(model=newmod, show_shapes = True)"
      ],
      "execution_count": null,
      "outputs": []
    },
    {
      "cell_type": "code",
      "metadata": {
        "id": "RfIhcpQp6t7l"
      },
      "source": [
        "#experment experiment experiment "
      ],
      "execution_count": null,
      "outputs": []
    },
    {
      "cell_type": "code",
      "metadata": {
        "id": "RBc9arxK612y"
      },
      "source": [
        "x_train = tf.range(-200,200,6)\n",
        "x_train \n",
        "y_train = x_train*2\n",
        "y_train"
      ],
      "execution_count": null,
      "outputs": []
    },
    {
      "cell_type": "code",
      "metadata": {
        "id": "-P0u-G-48I1M"
      },
      "source": [
        "model = tf.keras.Sequential([\n",
        "    tf.keras.layers.Dense(1)]\n",
        ")\n",
        "\n",
        "model.compile(loss = tf.keras.losses.mae,\n",
        "              optimizer = tf.keras.optimizers.SGD(),\n",
        "              metrics = [\"mae\"]\n",
        "              \n",
        "  )\n",
        "\n",
        "model.fit(x_train,y_train,epochs = 100)"
      ],
      "execution_count": null,
      "outputs": []
    },
    {
      "cell_type": "code",
      "metadata": {
        "id": "55HHVGrb_3vu"
      },
      "source": [
        "varypred = model.predict(x_test)"
      ],
      "execution_count": null,
      "outputs": []
    },
    {
      "cell_type": "code",
      "metadata": {
        "id": "3CN_a9xcAXXU"
      },
      "source": [
        "import pandas as pd\n"
      ],
      "execution_count": null,
      "outputs": []
    },
    {
      "cell_type": "code",
      "metadata": {
        "id": "Jm9AyhlYJwxz"
      },
      "source": [
        "import tensorflow as tf\n",
        "import pandas as pd \n",
        "import matplotlib.pyplot as plt"
      ],
      "execution_count": null,
      "outputs": []
    },
    {
      "cell_type": "code",
      "metadata": {
        "id": "Teqn0yazKFqQ"
      },
      "source": [
        "insurance =pd.read_csv(\"https://raw.githubusercontent.com/stedy/Machine-Learning-with-R-datasets/master/insurance.csv\")\n",
        "insurance"
      ],
      "execution_count": null,
      "outputs": []
    },
    {
      "cell_type": "code",
      "metadata": {
        "id": "_MbzFwO6PnWl"
      },
      "source": [
        "#sheesh\n",
        "\n",
        "insurance_onehot = pd.get_dummies(insurance)\n",
        "insurance_onehot"
      ],
      "execution_count": null,
      "outputs": []
    },
    {
      "cell_type": "code",
      "metadata": {
        "id": "VVM5oYf-QY_f"
      },
      "source": [
        "x = insurance_onehot.drop(\"charges\", axis = 1)\n",
        "x"
      ],
      "execution_count": null,
      "outputs": []
    },
    {
      "cell_type": "code",
      "metadata": {
        "id": "2ezSo6p4Q8sd"
      },
      "source": [
        "y  = insurance_onehot[\"charges\"]\n",
        "y"
      ],
      "execution_count": null,
      "outputs": []
    },
    {
      "cell_type": "markdown",
      "metadata": {
        "id": "VcZ4Kp7eRX0B"
      },
      "source": [
        ""
      ]
    },
    {
      "cell_type": "code",
      "metadata": {
        "id": "U6QgT8xsRcHK"
      },
      "source": [
        "y.head()"
      ],
      "execution_count": null,
      "outputs": []
    },
    {
      "cell_type": "code",
      "metadata": {
        "id": "KbEr9emLRf6z"
      },
      "source": [
        "x.head()"
      ],
      "execution_count": null,
      "outputs": []
    },
    {
      "cell_type": "code",
      "metadata": {
        "id": "5tAnWMcuRqZq"
      },
      "source": [
        "from sklearn.model_selection import train_test_split"
      ],
      "execution_count": null,
      "outputs": []
    },
    {
      "cell_type": "code",
      "metadata": {
        "id": "xqCDsxcoSn7W"
      },
      "source": [
        "trainx, testx, trainy, testy = train_test_split(x,y, test_size = 0.2, random_state = 41)"
      ],
      "execution_count": null,
      "outputs": []
    },
    {
      "cell_type": "code",
      "metadata": {
        "id": "b1wQBbDRUExn"
      },
      "source": [
        "tf.random.set_seed(41)\n",
        "\n",
        "insurance_model = tf.keras.Sequential( [\n",
        "    tf.keras.layers.Dense(10),\n",
        "    tf.keras.layers.Dense(1)]\n",
        ")\n",
        "\n",
        "\n",
        "insurance_model.compile(loss = tf.keras.losses.mae,\n",
        "                        optimizer = tf.keras.optimizers.Adam(lr = 0.001),\n",
        "                        metrics = [\"mae\"])\n",
        "\n",
        "insurance_model.fit(trainx, trainy, epochs = 100)"
      ],
      "execution_count": null,
      "outputs": []
    },
    {
      "cell_type": "code",
      "metadata": {
        "id": "UAbq8rBoW3Qo"
      },
      "source": [
        "insurance_model.evaluate(testx, testy)"
      ],
      "execution_count": null,
      "outputs": []
    },
    {
      "cell_type": "code",
      "metadata": {
        "id": "LTTfpylSXEmW"
      },
      "source": [
        "tf.random.set_seed(44)\n",
        "insurancemodel2 = tf.keras.Sequential(\n",
        "    [\n",
        "     tf.keras.layers.Dense(100),\n",
        "     tf.keras.layers.Dense(10),\n",
        "     tf.keras.layers.Dense(1)\n",
        "    ]\n",
        ")\n",
        "\n",
        "insurancemodel2.compile(\n",
        "    loss = tf.keras.losses.mae,\n",
        "    optimizer = tf.keras.optimizers.Adam(),\n",
        "    metrics=[\"mae\"]\n",
        ")\n",
        "insurancemodel2.fit(trainx,trainy, epochs = 100)"
      ],
      "execution_count": null,
      "outputs": []
    },
    {
      "cell_type": "code",
      "metadata": {
        "id": "KcUdwvMqZw74"
      },
      "source": [
        "insurancemodel2.evaluate(testx, testy)"
      ],
      "execution_count": null,
      "outputs": []
    },
    {
      "cell_type": "code",
      "metadata": {
        "id": "mQPZzjh3Lt-o"
      },
      "source": [
        "import pandas as pd \n",
        "import matplotlib.pyplot as plt\n",
        "import tensorflow as tf\n",
        "\n",
        "insurance = pd.read_csv(\"https://raw.githubusercontent.com/stedy/Machine-Learning-with-R-datasets/master/insurance.csv\")\n",
        "insurance"
      ],
      "execution_count": null,
      "outputs": []
    },
    {
      "cell_type": "code",
      "metadata": {
        "id": "PDEItrmgRdva"
      },
      "source": [
        "!pip install sklearn"
      ],
      "execution_count": null,
      "outputs": []
    },
    {
      "cell_type": "code",
      "metadata": {
        "id": "PF5IkAeNR0Xt"
      },
      "source": [
        "!pip install MinMaxScalar"
      ],
      "execution_count": null,
      "outputs": []
    },
    {
      "cell_type": "code",
      "metadata": {
        "id": "bcY0Xu54MlCv"
      },
      "source": [
        "from sklearn.compose import make_column_transformer\n",
        "from sklearn.preprocessing import MinMaxScaler, OneHotEncoder\n",
        "from sklearn.model_selection import train_test_split\n",
        "\n",
        "ct = make_column_transformer(\n",
        "    (MinMaxScaler(),[\"age\", \"bmi\", \"children\"]),\n",
        "    (OneHotEncoder(handle_unknown = \"ignore\"), [\"sex\", \"smoker\", \"region\"])\n",
        "  \n",
        ")\n",
        "\n",
        "x = insurance.drop(\"charges\", axis = 1)\n",
        "y = insurance[\"charges\"]  \n",
        "\n",
        "xtr, xts, ytr, yts = train_test_split(x,y,test_size = 0.2, random_state=42)\n",
        "\n",
        "ct.fit(xtr)\n",
        "\n",
        "xtrn = ct.transform(xtr)\n",
        "xtsn = ct.transform(xts)"
      ],
      "execution_count": null,
      "outputs": []
    },
    {
      "cell_type": "code",
      "metadata": {
        "id": "Bby6M6GGRSY-"
      },
      "source": [
        "xtrn[0]"
      ],
      "execution_count": null,
      "outputs": []
    },
    {
      "cell_type": "code",
      "metadata": {
        "id": "6x8bdX9USZhU"
      },
      "source": [
        "xtrn"
      ],
      "execution_count": null,
      "outputs": []
    },
    {
      "cell_type": "code",
      "metadata": {
        "id": "q0tpbR6ySoPn"
      },
      "source": [
        "tf.random.set_seed(42)\n",
        "\n",
        "mod = tf.keras.Sequential(\n",
        "    [\n",
        "     tf.keras.layers.Dense(100),\n",
        "     tf.keras.layers.Dense(10),\n",
        "     tf.keras.layers.Dense(1)\n",
        "\n",
        "    ]\n",
        ")\n",
        "\n",
        "mod.compile(\n",
        "    loss = tf.keras.losses.mae,\n",
        "    optimizer = tf.keras.optimizers.Adam(),\n",
        "    metrics = [\"mae\"]\n",
        ")\n",
        "\n",
        "mod.fit(xtrn, ytr, epochs = 100, verbose = 1)\n"
      ],
      "execution_count": null,
      "outputs": []
    },
    {
      "cell_type": "code",
      "metadata": {
        "id": "O-HDqtfFUe8q"
      },
      "source": [
        "mod.evaluate(xtsn, yts)"
      ],
      "execution_count": null,
      "outputs": []
    },
    {
      "cell_type": "code",
      "metadata": {
        "id": "HKoFvvnyUTmV"
      },
      "source": [
        "mod.summary()"
      ],
      "execution_count": null,
      "outputs": []
    },
    {
      "cell_type": "code",
      "metadata": {
        "id": "6za_zIoVkRR5"
      },
      "source": [
        "from sklearn.datasets import make_circles\n",
        "\n",
        "nsamples = 1000\n",
        "x, y = make_circles(nsamples,\n",
        "                    noise = 0.03,\n",
        "                    random_state = 41)\n",
        "\n"
      ],
      "execution_count": null,
      "outputs": []
    },
    {
      "cell_type": "code",
      "metadata": {
        "id": "-2HqCFWmlN92"
      },
      "source": [
        "x,y[:10]"
      ],
      "execution_count": null,
      "outputs": []
    },
    {
      "cell_type": "code",
      "metadata": {
        "id": "O4wyN3gUlfq0"
      },
      "source": [
        "import pandas as pd\n",
        "\n",
        "circles = pd.DataFrame({\"X0\":x[:, 0], \"X1\":x[:, 1], \"label\":y})\n",
        "circles"
      ],
      "execution_count": null,
      "outputs": []
    },
    {
      "cell_type": "code",
      "metadata": {
        "id": "X5KdPGkChzys"
      },
      "source": [
        "import matplotlib.pyplot as plt\n",
        "plt.scatter(x[:,0], x[:, 1], c=y)"
      ],
      "execution_count": null,
      "outputs": []
    },
    {
      "cell_type": "code",
      "metadata": {
        "id": "ru8eXNdp6faS"
      },
      "source": [
        "import tensorflow as tf"
      ],
      "execution_count": null,
      "outputs": []
    },
    {
      "cell_type": "code",
      "metadata": {
        "id": "ezRgsVDk5lPW"
      },
      "source": [
        "binaryCM = tf.keras.Sequential(\n",
        "    [tf.keras.layers.Dense(4, activation = \"relu\"),\n",
        "     tf.keras.layers.Dense(4, activation = \"relu\"),\n",
        "     tf.keras.layers.Dense(1, activation = \"sigmoid\")]\n",
        ")"
      ],
      "execution_count": null,
      "outputs": []
    },
    {
      "cell_type": "code",
      "metadata": {
        "id": "U9dNkyxI64A0"
      },
      "source": [
        "binaryCM.compile(\n",
        "    loss = tf.keras.losses.binary_crossentropy,\n",
        "    optimizer = tf.keras.optimizers.Adam(),\n",
        "    metrics = [\"accuracy\"]\n",
        ")"
      ],
      "execution_count": null,
      "outputs": []
    },
    {
      "cell_type": "code",
      "metadata": {
        "id": "KJvDvlccCqyb"
      },
      "source": [
        "binaryCM.fit(x, y, epochs = 100)"
      ],
      "execution_count": null,
      "outputs": []
    },
    {
      "cell_type": "code",
      "metadata": {
        "id": "iJRX2fLaCxPK"
      },
      "source": [
        "from sklearn.model_selection import train_test_split"
      ],
      "execution_count": null,
      "outputs": []
    },
    {
      "cell_type": "code",
      "metadata": {
        "id": "9V042A55AHVk"
      },
      "source": [
        "xtrain, xtest, ytrain, ytest = train_test_split(x,y, test_size=0.2, random_state =69)"
      ],
      "execution_count": null,
      "outputs": []
    },
    {
      "cell_type": "code",
      "metadata": {
        "id": "C4Wfddq7AnSw"
      },
      "source": [
        "xtrain.shape, xtest.shape, ytrain.shape, ytest.shape"
      ],
      "execution_count": null,
      "outputs": []
    },
    {
      "cell_type": "code",
      "metadata": {
        "id": "6OFhonRfA5pY"
      },
      "source": [
        "binaryCM.fit(xtrain, ytrain)"
      ],
      "execution_count": null,
      "outputs": []
    },
    {
      "cell_type": "code",
      "metadata": {
        "id": "yyRMvdg9BMwc"
      },
      "source": [
        "binaryCM.evaluate(xtest, ytest)"
      ],
      "execution_count": null,
      "outputs": []
    },
    {
      "cell_type": "code",
      "metadata": {
        "id": "rF1cUJeXBW7I"
      },
      "source": [
        "history_variable=binaryCM.fit(xtrain, ytrain, epochs = 100, verbose = 0)"
      ],
      "execution_count": null,
      "outputs": []
    },
    {
      "cell_type": "code",
      "metadata": {
        "id": "RzCUmIz-DdyS"
      },
      "source": [
        "newhistory= history_variable.history"
      ],
      "execution_count": null,
      "outputs": []
    },
    {
      "cell_type": "code",
      "metadata": {
        "id": "krNjhhi0D2-l"
      },
      "source": [
        "pd.DataFrame(newhistory)"
      ],
      "execution_count": null,
      "outputs": []
    },
    {
      "cell_type": "code",
      "metadata": {
        "id": "O9Hudy7TEcY_"
      },
      "source": [
        "pd.DataFrame(history_variable.history).plot()\n",
        "plt.title(\"loss curve\")"
      ],
      "execution_count": null,
      "outputs": []
    },
    {
      "cell_type": "code",
      "metadata": {
        "id": "tCmlZTxZKMTp"
      },
      "source": [
        "tf.random.set_seed(42)"
      ],
      "execution_count": null,
      "outputs": []
    },
    {
      "cell_type": "code",
      "metadata": {
        "id": "LQ3CgqneKnh6"
      },
      "source": [
        "lrexperimentmodel = tf.keras.Sequential(\n",
        "    [\n",
        "     tf.keras.layers.Dense(4, activation = \"relu\"),\n",
        "     tf.keras.layers.Dense(4, activation = \"relu\"),\n",
        "     tf.keras.layers.Dense(1, activation = \"sigmoid\")\n",
        "    ]\n",
        ")\n",
        "\n",
        "lrexperimentmodel.compile(\n",
        "    loss = tf.keras.losses.binary_crossentropy,\n",
        "    optimizer = tf.keras.optimizers.Adam(),\n",
        "    metrics = [\"accuracy\"]\n",
        ")\n",
        "\n",
        "#now before fitting lets create a learning rate callback\n",
        "\n",
        "lr_callback = tf.keras.callbacks.LearningRateScheduler( lambda epoch : 1e-4*10**(epoch/20) )\n",
        "\n",
        "\n",
        "#now go on and fit the model\n",
        "varforhistory=lrexperimentmodel.fit(\n",
        "    xtrain,\n",
        "    ytrain,epochs = 100, \n",
        "    callbacks = [lr_callback],\n",
        "    verbose = 0\n",
        ")\n"
      ],
      "execution_count": null,
      "outputs": []
    },
    {
      "cell_type": "code",
      "metadata": {
        "id": "d02BqjltOVkl"
      },
      "source": [
        "pd.DataFrame(varforhistory.history).plot(xlabel = \"epochs\")"
      ],
      "execution_count": null,
      "outputs": []
    },
    {
      "cell_type": "code",
      "metadata": {
        "id": "n9z6DDY2TX7x"
      },
      "source": [
        "modelacc = tf.keras.metrics.Accuracy()\n",
        "modelacc"
      ],
      "execution_count": null,
      "outputs": []
    },
    {
      "cell_type": "code",
      "metadata": {
        "id": "zwulJLFFT22F"
      },
      "source": [
        "accuracy = lrexperimentmodel.evaluate(xtest, ytest)\n"
      ],
      "execution_count": null,
      "outputs": []
    },
    {
      "cell_type": "code",
      "metadata": {
        "id": "yeKHnf7NZu1q"
      },
      "source": [
        "from sklearn.metrics import confusion_matrix"
      ],
      "execution_count": null,
      "outputs": []
    },
    {
      "cell_type": "code",
      "metadata": {
        "id": "sV_y8_XSaBii"
      },
      "source": [
        "ypred = lrexperimentmodel.evaluate(xtest)"
      ],
      "execution_count": null,
      "outputs": []
    },
    {
      "cell_type": "code",
      "metadata": {
        "id": "txmxEybkaXEZ"
      },
      "source": [
        "confusion_matrix(ytest, ypred)"
      ],
      "execution_count": null,
      "outputs": []
    },
    {
      "cell_type": "code",
      "metadata": {
        "id": "P9tGsUlWbGkU"
      },
      "source": [
        "we've to round values in y pred to eliminate these errors"
      ],
      "execution_count": null,
      "outputs": []
    },
    {
      "cell_type": "code",
      "metadata": {
        "id": "9F6js0GtbP4I"
      },
      "source": [
        "tf.round(ypred)[:10]"
      ],
      "execution_count": null,
      "outputs": []
    },
    {
      "cell_type": "code",
      "metadata": {
        "id": "Lt9OqnZsbdv0"
      },
      "source": [
        "confusion_matrix(ytest, tf.round(ypred))"
      ],
      "execution_count": null,
      "outputs": []
    },
    {
      "cell_type": "code",
      "metadata": {
        "id": "ufIpT6i8b17g"
      },
      "source": [
        ""
      ],
      "execution_count": null,
      "outputs": []
    },
    {
      "cell_type": "markdown",
      "metadata": {
        "id": "H67ZVzvw2QcM"
      },
      "source": [
        "CNN \n"
      ]
    },
    {
      "cell_type": "code",
      "metadata": {
        "id": "P9munXUz2Ska"
      },
      "source": [
        "import zipfile"
      ],
      "execution_count": null,
      "outputs": []
    },
    {
      "cell_type": "code",
      "metadata": {
        "colab": {
          "base_uri": "https://localhost:8080/"
        },
        "id": "yM_Hv44I2445",
        "outputId": "843827b7-79c8-4582-d82b-9f53e0af6928"
      },
      "source": [
        "!wget https://storage.googleapis.com/ztm_tf_course/food_vision/pizza_steak.zip "
      ],
      "execution_count": null,
      "outputs": [
        {
          "output_type": "stream",
          "name": "stdout",
          "text": [
            "--2021-10-27 07:51:09--  https://storage.googleapis.com/ztm_tf_course/food_vision/pizza_steak.zip\n",
            "Resolving storage.googleapis.com (storage.googleapis.com)... 209.85.145.128, 172.217.219.128, 209.85.147.128, ...\n",
            "Connecting to storage.googleapis.com (storage.googleapis.com)|209.85.145.128|:443... connected.\n",
            "HTTP request sent, awaiting response... 200 OK\n",
            "Length: 109579078 (105M) [application/zip]\n",
            "Saving to: ‘pizza_steak.zip’\n",
            "\n",
            "pizza_steak.zip     100%[===================>] 104.50M   158MB/s    in 0.7s    \n",
            "\n",
            "2021-10-27 07:51:10 (158 MB/s) - ‘pizza_steak.zip’ saved [109579078/109579078]\n",
            "\n"
          ]
        }
      ]
    },
    {
      "cell_type": "code",
      "metadata": {
        "id": "sE71o4N43Kbg"
      },
      "source": [
        "#unzipping\n",
        "\n",
        "zip_ref = zipfile.ZipFile(\"pizza_steak.zip\", \"r\")\n",
        "zip_ref.extractall()\n",
        "zip_ref.close()"
      ],
      "execution_count": null,
      "outputs": []
    },
    {
      "cell_type": "markdown",
      "metadata": {
        "id": "v-88lL1P6MD_"
      },
      "source": [
        "walking throug the data"
      ]
    },
    {
      "cell_type": "code",
      "metadata": {
        "colab": {
          "base_uri": "https://localhost:8080/"
        },
        "id": "P72o2p7z6Tw6",
        "outputId": "93fea60a-3072-4e2b-c37c-5efe871dcc39"
      },
      "source": [
        "import os \n",
        "for dirpath, dirnames, filenames in os.walk(\"pizza_steak\"):\n",
        "  print(f\"There are {len(dirnames)} directories and {len(filenames)} images in '{dirpath}'.\")"
      ],
      "execution_count": null,
      "outputs": [
        {
          "output_type": "stream",
          "name": "stdout",
          "text": [
            "There are 2 directories and 1 images in 'pizza_steak'.\n",
            "There are 2 directories and 1 images in 'pizza_steak/train'.\n",
            "There are 0 directories and 750 images in 'pizza_steak/train/steak'.\n",
            "There are 0 directories and 750 images in 'pizza_steak/train/pizza'.\n",
            "There are 2 directories and 1 images in 'pizza_steak/test'.\n",
            "There are 0 directories and 250 images in 'pizza_steak/test/steak'.\n",
            "There are 0 directories and 250 images in 'pizza_steak/test/pizza'.\n"
          ]
        }
      ]
    },
    {
      "cell_type": "code",
      "metadata": {
        "id": "0lmTV0aE6t6Y"
      },
      "source": [
        "#lets build"
      ],
      "execution_count": null,
      "outputs": []
    },
    {
      "cell_type": "code",
      "metadata": {
        "id": "sBF8jLOgA98V"
      },
      "source": [
        "import tensorflow as tf\n",
        "from tensorflow.keras.preprocessing.image import ImageDataGenerator\n",
        " \n",
        "\n",
        "tf.random.set_seed(42)\n",
        "generalisedTrainData = ImageDataGenerator(rescale=1./255)\n",
        "genaeralisedValidData =  ImageDataGenerator(rescale=1./255)"
      ],
      "execution_count": null,
      "outputs": []
    },
    {
      "cell_type": "code",
      "metadata": {
        "id": "-jsLjBjKBu5E"
      },
      "source": [
        "traindir=\"/content/pizza_steak/train\"\n",
        "testdir=\"/content/pizza_steak/test\""
      ],
      "execution_count": null,
      "outputs": []
    },
    {
      "cell_type": "code",
      "metadata": {
        "colab": {
          "base_uri": "https://localhost:8080/"
        },
        "id": "unCQEZsCCkUv",
        "outputId": "71d3682e-0c80-40fc-9f0b-8c5503aa5031"
      },
      "source": [
        "traindata=generalisedTrainData.flow_from_directory(directory=traindir,\n",
        "                                                    batch_size=32,\n",
        "                                                    target_size=(224,224),\n",
        "                                                    class_mode=\"binary\",\n",
        "                                                    seed=42)"
      ],
      "execution_count": null,
      "outputs": [
        {
          "output_type": "stream",
          "name": "stdout",
          "text": [
            "Found 1500 images belonging to 2 classes.\n"
          ]
        }
      ]
    },
    {
      "cell_type": "code",
      "metadata": {
        "colab": {
          "base_uri": "https://localhost:8080/"
        },
        "id": "TTW-8wFLDqTF",
        "outputId": "02d3a787-9b8e-46e7-e7a1-9ca56de9cb99"
      },
      "source": [
        "validdata=genaeralisedValidData.flow_from_directory(directory=testdir,\n",
        "                                                    batch_size=32,\n",
        "                                                    target_size=(224,224),\n",
        "                                                    seed=42\n",
        "                                                    )"
      ],
      "execution_count": null,
      "outputs": [
        {
          "output_type": "stream",
          "name": "stdout",
          "text": [
            "Found 500 images belonging to 2 classes.\n"
          ]
        }
      ]
    },
    {
      "cell_type": "code",
      "metadata": {
        "id": "-oJk4eVkIzwV"
      },
      "source": [
        "model1=tf.keras.Sequential([\n",
        "    tf.keras.layers.Conv2D(filters=10,\n",
        "                           kernel_size=3,\n",
        "                           activation=\"relu\",\n",
        "                           input_shape=(224,224,3)),\n",
        "    tf.keras.layers.Conv2D(10,3, activation=\"relu\"),\n",
        "    tf.keras.layers.MaxPool2D(pool_size=2,\n",
        "                              padding=\"valid\"),\n",
        "    tf.keras.layers.Conv2D(10,3,activation =\"relu\"),\n",
        "    tf.keras.layers.Conv2D(10,3, activation=\"relu\"),\n",
        "    tf.keras.layers.MaxPool2D(2\n",
        "                              ),\n",
        "    tf.keras.layers.Flatten(),\n",
        "    tf.keras.layers.Dense(1,\n",
        "                          activation=\"sigmoid\")\n",
        "])"
      ],
      "execution_count": null,
      "outputs": []
    },
    {
      "cell_type": "code",
      "metadata": {
        "id": "Bv0i0E1xMAMM"
      },
      "source": [
        "model1.compile(\n",
        "    loss=tf.keras.losses.binary_crossentropy,\n",
        "    optimizer=tf.keras.optimizers.Adam(),\n",
        "    metrics = [\"accuracy\"]\n",
        ")"
      ],
      "execution_count": null,
      "outputs": []
    },
    {
      "cell_type": "code",
      "metadata": {
        "colab": {
          "base_uri": "https://localhost:8080/"
        },
        "id": "6wC4Rr25MbPj",
        "outputId": "9fe34dde-5862-4501-93ab-3f0f00f11ad4"
      },
      "source": [
        "history1=model1.fit(traindata,\n",
        "                    epochs=5,\n",
        "                    steps_per_epoch=len(traindata),\n",
        "                    validation_data=validdata,\n",
        "                    validation_steps=len(validdata))"
      ],
      "execution_count": null,
      "outputs": [
        {
          "output_type": "stream",
          "name": "stdout",
          "text": [
            "Epoch 1/5\n",
            "47/47 [==============================] - 13s 270ms/step - loss: 0.5663 - accuracy: 0.7120 - val_loss: 1.1554 - val_accuracy: 0.5000\n",
            "Epoch 2/5\n",
            "47/47 [==============================] - 11s 236ms/step - loss: 0.4383 - accuracy: 0.8067 - val_loss: 1.1593 - val_accuracy: 0.5000\n",
            "Epoch 3/5\n",
            "47/47 [==============================] - 11s 235ms/step - loss: 0.4190 - accuracy: 0.8160 - val_loss: 1.0277 - val_accuracy: 0.5000\n",
            "Epoch 4/5\n",
            "47/47 [==============================] - 11s 238ms/step - loss: 0.3688 - accuracy: 0.8413 - val_loss: 1.1564 - val_accuracy: 0.5000\n",
            "Epoch 5/5\n",
            "47/47 [==============================] - 12s 248ms/step - loss: 0.3246 - accuracy: 0.8647 - val_loss: 1.4123 - val_accuracy: 0.5000\n"
          ]
        }
      ]
    },
    {
      "cell_type": "code",
      "metadata": {
        "colab": {
          "base_uri": "https://localhost:8080/"
        },
        "id": "-LzccxlhOyUa",
        "outputId": "444da245-f5f2-48dc-fce6-2957fab05750"
      },
      "source": [
        "model1.summary()"
      ],
      "execution_count": null,
      "outputs": [
        {
          "output_type": "stream",
          "name": "stdout",
          "text": [
            "Model: \"sequential\"\n",
            "_________________________________________________________________\n",
            "Layer (type)                 Output Shape              Param #   \n",
            "=================================================================\n",
            "conv2d (Conv2D)              (None, 222, 222, 10)      280       \n",
            "_________________________________________________________________\n",
            "conv2d_1 (Conv2D)            (None, 220, 220, 10)      910       \n",
            "_________________________________________________________________\n",
            "max_pooling2d (MaxPooling2D) (None, 110, 110, 10)      0         \n",
            "_________________________________________________________________\n",
            "conv2d_2 (Conv2D)            (None, 108, 108, 10)      910       \n",
            "_________________________________________________________________\n",
            "conv2d_3 (Conv2D)            (None, 106, 106, 10)      910       \n",
            "_________________________________________________________________\n",
            "max_pooling2d_1 (MaxPooling2 (None, 53, 53, 10)        0         \n",
            "_________________________________________________________________\n",
            "flatten (Flatten)            (None, 28090)             0         \n",
            "_________________________________________________________________\n",
            "dense (Dense)                (None, 1)                 28091     \n",
            "=================================================================\n",
            "Total params: 31,101\n",
            "Trainable params: 31,101\n",
            "Non-trainable params: 0\n",
            "_________________________________________________________________\n"
          ]
        }
      ]
    },
    {
      "cell_type": "code",
      "metadata": {
        "id": "s8dCESPQu93U"
      },
      "source": [
        "tf.random.set_seed(42)"
      ],
      "execution_count": null,
      "outputs": []
    },
    {
      "cell_type": "code",
      "metadata": {
        "id": "ez_EuwXcvmvM"
      },
      "source": [
        "model2=tf.keras.Sequential([\n",
        "                                   tf.keras.layers.Dense(4, activation=\"relu\"),\n",
        "                                   tf.keras.layers.Dense(4, activation=\"relu\"),\n",
        "                                   tf.keras.layers.Dense(1, activation = \"sigmoid\")\n",
        "])\n",
        "\n",
        "model2.compile(loss = tf.keras.losses.binary_crossentropy,\n",
        "           optimizer= tf.keras.optimizers.Adam(),\n",
        "           metrics = [\"accuracy\"])"
      ],
      "execution_count": null,
      "outputs": []
    },
    {
      "cell_type": "code",
      "metadata": {
        "colab": {
          "base_uri": "https://localhost:8080/"
        },
        "id": "Fu2zi-eZw6_-",
        "outputId": "b2649812-0866-4863-f52c-a30e0d9e6fbe"
      },
      "source": [
        "history2=model1.fit(traindata,\n",
        "                    epochs=5,\n",
        "                    steps_per_epoch=len(traindata),\n",
        "                    validation_data=validdata,\n",
        "                    validation_steps=len(validdata))"
      ],
      "execution_count": null,
      "outputs": [
        {
          "output_type": "stream",
          "name": "stdout",
          "text": [
            "Epoch 1/5\n",
            "47/47 [==============================] - 12s 255ms/step - loss: 0.2864 - accuracy: 0.8860 - val_loss: 1.6780 - val_accuracy: 0.5000\n",
            "Epoch 2/5\n",
            "47/47 [==============================] - 12s 254ms/step - loss: 0.2079 - accuracy: 0.9260 - val_loss: 1.9681 - val_accuracy: 0.5000\n",
            "Epoch 3/5\n",
            "47/47 [==============================] - 12s 251ms/step - loss: 0.1678 - accuracy: 0.9440 - val_loss: 1.9136 - val_accuracy: 0.5000\n",
            "Epoch 4/5\n",
            "47/47 [==============================] - 12s 252ms/step - loss: 0.0945 - accuracy: 0.9713 - val_loss: 2.2541 - val_accuracy: 0.5000\n",
            "Epoch 5/5\n",
            "47/47 [==============================] - 12s 247ms/step - loss: 0.0586 - accuracy: 0.9847 - val_loss: 2.7132 - val_accuracy: 0.5000\n"
          ]
        }
      ]
    },
    {
      "cell_type": "code",
      "metadata": {
        "colab": {
          "base_uri": "https://localhost:8080/"
        },
        "id": "hgBYaM7GuxVZ",
        "outputId": "6dababf1-86d8-43e2-e1f4-39a45b4bb9b4"
      },
      "source": [
        "import zipfile\n",
        "\n",
        "!wget https://storage.googleapis.com/ztm_tf_course/food_vision/10_food_classes_all_data.zip"
      ],
      "execution_count": null,
      "outputs": [
        {
          "output_type": "stream",
          "name": "stdout",
          "text": [
            "--2021-10-28 04:36:04--  https://storage.googleapis.com/ztm_tf_course/food_vision/10_food_classes_all_data.zip\n",
            "Resolving storage.googleapis.com (storage.googleapis.com)... 74.125.132.128, 74.125.202.128, 74.125.69.128, ...\n",
            "Connecting to storage.googleapis.com (storage.googleapis.com)|74.125.132.128|:443... connected.\n",
            "HTTP request sent, awaiting response... 200 OK\n",
            "Length: 519183241 (495M) [application/zip]\n",
            "Saving to: ‘10_food_classes_all_data.zip’\n",
            "\n",
            "10_food_classes_all 100%[===================>] 495.13M   164MB/s    in 3.0s    \n",
            "\n",
            "2021-10-28 04:36:08 (164 MB/s) - ‘10_food_classes_all_data.zip’ saved [519183241/519183241]\n",
            "\n"
          ]
        }
      ]
    },
    {
      "cell_type": "code",
      "metadata": {
        "id": "fNW8VnHILxAu"
      },
      "source": [
        "zip_ref=zipfile.ZipFile(\"10_food_classes_all_data.zip\")\n",
        "zip_ref.extractall()\n",
        "zip_ref.close()"
      ],
      "execution_count": null,
      "outputs": []
    },
    {
      "cell_type": "code",
      "metadata": {
        "colab": {
          "base_uri": "https://localhost:8080/"
        },
        "id": "cSpoy-6UMUjb",
        "outputId": "adb600b1-037a-44bb-f03d-55127eacb03d"
      },
      "source": [
        "import os \n",
        "for dirpath, dirnames, filenames in os.walk(\"10_food_classes_all_data\"):\n",
        "  print(f\"There are {len(dirnames)} directories and {len(filenames)} images in '{dirpath}'.\")\n",
        "  "
      ],
      "execution_count": null,
      "outputs": [
        {
          "output_type": "stream",
          "name": "stdout",
          "text": [
            "There are 2 directories and 0 images in '10_food_classes_all_data'.\n",
            "There are 10 directories and 0 images in '10_food_classes_all_data/train'.\n",
            "There are 0 directories and 750 images in '10_food_classes_all_data/train/pizza'.\n",
            "There are 0 directories and 750 images in '10_food_classes_all_data/train/chicken_wings'.\n",
            "There are 0 directories and 750 images in '10_food_classes_all_data/train/ice_cream'.\n",
            "There are 0 directories and 750 images in '10_food_classes_all_data/train/fried_rice'.\n",
            "There are 0 directories and 750 images in '10_food_classes_all_data/train/steak'.\n",
            "There are 0 directories and 750 images in '10_food_classes_all_data/train/ramen'.\n",
            "There are 0 directories and 750 images in '10_food_classes_all_data/train/hamburger'.\n",
            "There are 0 directories and 750 images in '10_food_classes_all_data/train/sushi'.\n",
            "There are 0 directories and 750 images in '10_food_classes_all_data/train/grilled_salmon'.\n",
            "There are 0 directories and 750 images in '10_food_classes_all_data/train/chicken_curry'.\n",
            "There are 10 directories and 0 images in '10_food_classes_all_data/test'.\n",
            "There are 0 directories and 250 images in '10_food_classes_all_data/test/pizza'.\n",
            "There are 0 directories and 250 images in '10_food_classes_all_data/test/chicken_wings'.\n",
            "There are 0 directories and 250 images in '10_food_classes_all_data/test/ice_cream'.\n",
            "There are 0 directories and 250 images in '10_food_classes_all_data/test/fried_rice'.\n",
            "There are 0 directories and 250 images in '10_food_classes_all_data/test/steak'.\n",
            "There are 0 directories and 250 images in '10_food_classes_all_data/test/ramen'.\n",
            "There are 0 directories and 250 images in '10_food_classes_all_data/test/hamburger'.\n",
            "There are 0 directories and 250 images in '10_food_classes_all_data/test/sushi'.\n",
            "There are 0 directories and 250 images in '10_food_classes_all_data/test/grilled_salmon'.\n",
            "There are 0 directories and 250 images in '10_food_classes_all_data/test/chicken_curry'.\n"
          ]
        }
      ]
    },
    {
      "cell_type": "code",
      "metadata": {
        "id": "ZfLT0yBfNa0J"
      },
      "source": [
        "train_dir=\"10_food_classes_all_data/train/\"\n",
        "test_dir=\"10_food_classes_all_data/test/\""
      ],
      "execution_count": null,
      "outputs": []
    },
    {
      "cell_type": "code",
      "metadata": {
        "colab": {
          "base_uri": "https://localhost:8080/"
        },
        "id": "ezfjiBxwODD_",
        "outputId": "b0cd15ec-c44e-4402-a826-45e029987e8e"
      },
      "source": [
        "import pathlib\n",
        "import numpy as np\n",
        "data_dir = pathlib.Path(train_dir)\n",
        "class_names = np.array(sorted([item.name for item in data_dir.glob('*')]))\n",
        "print(class_names)"
      ],
      "execution_count": null,
      "outputs": [
        {
          "output_type": "stream",
          "name": "stdout",
          "text": [
            "['chicken_curry' 'chicken_wings' 'fried_rice' 'grilled_salmon' 'hamburger'\n",
            " 'ice_cream' 'pizza' 'ramen' 'steak' 'sushi']\n"
          ]
        }
      ]
    },
    {
      "cell_type": "code",
      "metadata": {
        "colab": {
          "base_uri": "https://localhost:8080/",
          "height": 214
        },
        "id": "1HOTNFfqOcT-",
        "outputId": "707767a8-f00a-4605-e5b2-ddce44a76577"
      },
      "source": [
        "# View a random image from the training dataset\n",
        "import random\n",
        "img = view_random(target_dir=train_dir,\n",
        "                        target_class=random.choice(class_names))"
      ],
      "execution_count": null,
      "outputs": [
        {
          "output_type": "error",
          "ename": "NameError",
          "evalue": "ignored",
          "traceback": [
            "\u001b[0;31m---------------------------------------------------------------------------\u001b[0m",
            "\u001b[0;31mNameError\u001b[0m                                 Traceback (most recent call last)",
            "\u001b[0;32m<ipython-input-37-96b9bad433e0>\u001b[0m in \u001b[0;36m<module>\u001b[0;34m()\u001b[0m\n\u001b[1;32m      1\u001b[0m \u001b[0;31m# View a random image from the training dataset\u001b[0m\u001b[0;34m\u001b[0m\u001b[0;34m\u001b[0m\u001b[0;34m\u001b[0m\u001b[0m\n\u001b[1;32m      2\u001b[0m \u001b[0;32mimport\u001b[0m \u001b[0mrandom\u001b[0m\u001b[0;34m\u001b[0m\u001b[0;34m\u001b[0m\u001b[0m\n\u001b[0;32m----> 3\u001b[0;31m img = view_random(target_dir=train_dir,\n\u001b[0m\u001b[1;32m      4\u001b[0m                         target_class=random.choice(class_names))\n",
            "\u001b[0;31mNameError\u001b[0m: name 'view_random' is not defined"
          ]
        }
      ]
    },
    {
      "cell_type": "code",
      "metadata": {
        "colab": {
          "base_uri": "https://localhost:8080/"
        },
        "id": "Omr7OZr5Qb4a",
        "outputId": "a8cb2dee-31cf-4f1c-e51b-41d276c9eff9"
      },
      "source": [
        "from tensorflow.keras.preprocessing.image import ImageDataGenerator\n",
        "\n",
        "# Rescale the data and create data generator instances\n",
        "train_datagen = ImageDataGenerator(rescale=1/255.)\n",
        "test_datagen = ImageDataGenerator(rescale=1/255.)\n",
        "\n",
        "# Load data in from directories and turn it into batches\n",
        "train_data = train_datagen.flow_from_directory(train_dir,\n",
        "                                               target_size=(224, 224),\n",
        "                                               batch_size=32,\n",
        "                                               class_mode='categorical') # changed to categorical\n",
        "\n",
        "test_data = train_datagen.flow_from_directory(test_dir,\n",
        "                                              target_size=(224, 224),\n",
        "                                              batch_size=32,\n",
        "                                              class_mode='categorical')"
      ],
      "execution_count": null,
      "outputs": [
        {
          "output_type": "stream",
          "name": "stdout",
          "text": [
            "Found 7500 images belonging to 10 classes.\n",
            "Found 2500 images belonging to 10 classes.\n"
          ]
        }
      ]
    },
    {
      "cell_type": "code",
      "metadata": {
        "id": "jqNNkfi1SNqd"
      },
      "source": [
        "import tensorflow as tf\n",
        "from tensorflow.keras.models import Sequential\n",
        "from tensorflow.keras.layers import Conv2D, MaxPool2D, Dense, Flatten\n"
      ],
      "execution_count": null,
      "outputs": []
    },
    {
      "cell_type": "code",
      "metadata": {
        "id": "f9f8-D1VS3Zw"
      },
      "source": [
        "\n",
        "# Create our model (a clone of model_8, except to be multi-class)\n",
        "model_9 = Sequential([\n",
        "  Conv2D(10, 3, activation='relu', input_shape=(224, 224, 3)),\n",
        "  Conv2D(10, 3, activation='relu'),\n",
        "  MaxPool2D(),\n",
        "  Conv2D(10, 3, activation='relu'),\n",
        "  Conv2D(10, 3, activation='relu'),\n",
        "  MaxPool2D(),\n",
        "  Flatten(),\n",
        "  Dense(10, activation='softmax') # changed to have 10 neurons (same as number of classes) and 'softmax' activation\n",
        "])\n",
        "\n",
        "# Compile the model\n",
        "model_9.compile(loss=\"categorical_crossentropy\", # changed to categorical_crossentropy\n",
        "                optimizer=tf.keras.optimizers.Adam(),\n",
        "                metrics=[\"accuracy\"])"
      ],
      "execution_count": null,
      "outputs": []
    },
    {
      "cell_type": "code",
      "metadata": {
        "colab": {
          "base_uri": "https://localhost:8080/"
        },
        "id": "VY8B6zEkStRG",
        "outputId": "3ef53fe5-cdb0-427a-9124-86fa6f1fdd04"
      },
      "source": [
        "# Fit the model\n",
        "history_9 = model_9.fit(train_data, # now 10 different classes \n",
        "                        epochs=5,\n",
        "                        steps_per_epoch=len(train_data),\n",
        "                        validation_data=test_data,\n",
        "                        validation_steps=len(test_data))"
      ],
      "execution_count": null,
      "outputs": [
        {
          "output_type": "stream",
          "name": "stdout",
          "text": [
            "Epoch 1/5\n",
            "235/235 [==============================] - 83s 221ms/step - loss: 2.1379 - accuracy: 0.2125 - val_loss: 2.0071 - val_accuracy: 0.2960\n",
            "Epoch 2/5\n",
            "235/235 [==============================] - 53s 225ms/step - loss: 1.8902 - accuracy: 0.3412 - val_loss: 1.7930 - val_accuracy: 0.3808\n",
            "Epoch 3/5\n",
            "235/235 [==============================] - 54s 232ms/step - loss: 1.6324 - accuracy: 0.4499 - val_loss: 1.7599 - val_accuracy: 0.3852\n",
            "Epoch 4/5\n",
            "235/235 [==============================] - 54s 228ms/step - loss: 1.2869 - accuracy: 0.5765 - val_loss: 1.9671 - val_accuracy: 0.3680\n",
            "Epoch 5/5\n",
            "235/235 [==============================] - 53s 225ms/step - loss: 0.7758 - accuracy: 0.7508 - val_loss: 2.4208 - val_accuracy: 0.3224\n"
          ]
        }
      ]
    },
    {
      "cell_type": "code",
      "metadata": {
        "id": "zaCvOf9FXNjl"
      },
      "source": [
        ""
      ],
      "execution_count": null,
      "outputs": []
    },
    {
      "cell_type": "markdown",
      "metadata": {
        "id": "m1_wRZJhO36u"
      },
      "source": [
        "Transfer learning\n"
      ]
    },
    {
      "cell_type": "markdown",
      "metadata": {
        "id": "ITJ-W3yTO4Cb"
      },
      "source": [
        ""
      ]
    },
    {
      "cell_type": "code",
      "metadata": {
        "id": "dlDWKSmPXNoz",
        "colab": {
          "base_uri": "https://localhost:8080/"
        },
        "outputId": "c13102c6-6f47-4739-ae49-b729c7977a04"
      },
      "source": [
        "!nvidia-smi"
      ],
      "execution_count": null,
      "outputs": [
        {
          "output_type": "stream",
          "name": "stdout",
          "text": [
            "Fri Oct 29 06:27:09 2021       \n",
            "+-----------------------------------------------------------------------------+\n",
            "| NVIDIA-SMI 495.29.05    Driver Version: 460.32.03    CUDA Version: 11.2     |\n",
            "|-------------------------------+----------------------+----------------------+\n",
            "| GPU  Name        Persistence-M| Bus-Id        Disp.A | Volatile Uncorr. ECC |\n",
            "| Fan  Temp  Perf  Pwr:Usage/Cap|         Memory-Usage | GPU-Util  Compute M. |\n",
            "|                               |                      |               MIG M. |\n",
            "|===============================+======================+======================|\n",
            "|   0  Tesla K80           Off  | 00000000:00:04.0 Off |                    0 |\n",
            "| N/A   68C    P8    33W / 149W |      0MiB / 11441MiB |      0%      Default |\n",
            "|                               |                      |                  N/A |\n",
            "+-------------------------------+----------------------+----------------------+\n",
            "                                                                               \n",
            "+-----------------------------------------------------------------------------+\n",
            "| Processes:                                                                  |\n",
            "|  GPU   GI   CI        PID   Type   Process name                  GPU Memory |\n",
            "|        ID   ID                                                   Usage      |\n",
            "|=============================================================================|\n",
            "|  No running processes found                                                 |\n",
            "+-----------------------------------------------------------------------------+\n"
          ]
        }
      ]
    },
    {
      "cell_type": "code",
      "metadata": {
        "colab": {
          "base_uri": "https://localhost:8080/"
        },
        "id": "qpt1TE89RVw3",
        "outputId": "1db60f3d-8f41-458e-ecc1-6f064713f700"
      },
      "source": [
        "import zipfile\n",
        "!wget https://storage.googleapis.com/ztm_tf_course/food_vision/10_food_classes_10_percent.zip"
      ],
      "execution_count": null,
      "outputs": [
        {
          "output_type": "stream",
          "name": "stdout",
          "text": [
            "--2021-10-29 06:27:11--  https://storage.googleapis.com/ztm_tf_course/food_vision/10_food_classes_10_percent.zip\n",
            "Resolving storage.googleapis.com (storage.googleapis.com)... 173.194.192.128, 209.85.145.128, 172.217.219.128, ...\n",
            "Connecting to storage.googleapis.com (storage.googleapis.com)|173.194.192.128|:443... connected.\n",
            "HTTP request sent, awaiting response... 200 OK\n",
            "Length: 168546183 (161M) [application/zip]\n",
            "Saving to: ‘10_food_classes_10_percent.zip’\n",
            "\n",
            "10_food_classes_10_ 100%[===================>] 160.74M   119MB/s    in 1.3s    \n",
            "\n",
            "2021-10-29 06:27:12 (119 MB/s) - ‘10_food_classes_10_percent.zip’ saved [168546183/168546183]\n",
            "\n"
          ]
        }
      ]
    },
    {
      "cell_type": "code",
      "metadata": {
        "id": "Glz9TG_vR11Q"
      },
      "source": [
        "zip_ref=zipfile.ZipFile(\"10_food_classes_10_percent.zip\", \"r\")\n",
        "zip_ref.extractall()\n",
        "zip_ref.close()"
      ],
      "execution_count": null,
      "outputs": []
    },
    {
      "cell_type": "code",
      "metadata": {
        "colab": {
          "base_uri": "https://localhost:8080/"
        },
        "id": "snWt6XECSjsV",
        "outputId": "d1840b78-c704-4458-d363-0d32a06c5365"
      },
      "source": [
        "import os\n",
        "for dirpath, dirnames, filenames in os.walk(\"10_food_classes_10_percent\"):\n",
        "  print(f\"There are {len(dirnames)} directories and {len(filenames)} images in '{dirpath}'.\")"
      ],
      "execution_count": null,
      "outputs": [
        {
          "output_type": "stream",
          "name": "stdout",
          "text": [
            "There are 2 directories and 0 images in '10_food_classes_10_percent'.\n",
            "There are 10 directories and 0 images in '10_food_classes_10_percent/train'.\n",
            "There are 0 directories and 75 images in '10_food_classes_10_percent/train/fried_rice'.\n",
            "There are 0 directories and 75 images in '10_food_classes_10_percent/train/grilled_salmon'.\n",
            "There are 0 directories and 75 images in '10_food_classes_10_percent/train/chicken_wings'.\n",
            "There are 0 directories and 75 images in '10_food_classes_10_percent/train/hamburger'.\n",
            "There are 0 directories and 75 images in '10_food_classes_10_percent/train/pizza'.\n",
            "There are 0 directories and 75 images in '10_food_classes_10_percent/train/ice_cream'.\n",
            "There are 0 directories and 75 images in '10_food_classes_10_percent/train/ramen'.\n",
            "There are 0 directories and 75 images in '10_food_classes_10_percent/train/steak'.\n",
            "There are 0 directories and 75 images in '10_food_classes_10_percent/train/sushi'.\n",
            "There are 0 directories and 75 images in '10_food_classes_10_percent/train/chicken_curry'.\n",
            "There are 10 directories and 0 images in '10_food_classes_10_percent/test'.\n",
            "There are 0 directories and 250 images in '10_food_classes_10_percent/test/fried_rice'.\n",
            "There are 0 directories and 250 images in '10_food_classes_10_percent/test/grilled_salmon'.\n",
            "There are 0 directories and 250 images in '10_food_classes_10_percent/test/chicken_wings'.\n",
            "There are 0 directories and 250 images in '10_food_classes_10_percent/test/hamburger'.\n",
            "There are 0 directories and 250 images in '10_food_classes_10_percent/test/pizza'.\n",
            "There are 0 directories and 250 images in '10_food_classes_10_percent/test/ice_cream'.\n",
            "There are 0 directories and 250 images in '10_food_classes_10_percent/test/ramen'.\n",
            "There are 0 directories and 250 images in '10_food_classes_10_percent/test/steak'.\n",
            "There are 0 directories and 250 images in '10_food_classes_10_percent/test/sushi'.\n",
            "There are 0 directories and 250 images in '10_food_classes_10_percent/test/chicken_curry'.\n"
          ]
        }
      ]
    },
    {
      "cell_type": "code",
      "metadata": {
        "colab": {
          "base_uri": "https://localhost:8080/"
        },
        "id": "UlohKBwmSzsH",
        "outputId": "537a4168-6876-4006-c21d-081e41c15629"
      },
      "source": [
        "from tensorflow.keras.preprocessing.image import ImageDataGenerator\n",
        "IMAGE_SHAPE = (224, 224)\n",
        "BATCH_SIZE = 32\n",
        "\n",
        "train_dir = \"10_food_classes_10_percent/train/\"\n",
        "test_dir = \"10_food_classes_10_percent/test/\"\n",
        "\n",
        "train_datagen = ImageDataGenerator(rescale=1/255.)\n",
        "test_datagen = ImageDataGenerator(rescale=1/255.)\n",
        "\n",
        "print(\"Training images:\")\n",
        "train_data_10_percent = train_datagen.flow_from_directory(train_dir,\n",
        "                                               target_size=IMAGE_SHAPE,\n",
        "                                               batch_size=BATCH_SIZE,\n",
        "                                               class_mode=\"categorical\")\n",
        "\n",
        "print(\"Testing images:\")\n",
        "test_data = train_datagen.flow_from_directory(test_dir,\n",
        "                                              target_size=IMAGE_SHAPE,\n",
        "                                              batch_size=BATCH_SIZE,\n",
        "                                              class_mode=\"categorical\")"
      ],
      "execution_count": null,
      "outputs": [
        {
          "output_type": "stream",
          "name": "stdout",
          "text": [
            "Training images:\n",
            "Found 750 images belonging to 10 classes.\n",
            "Testing images:\n",
            "Found 2500 images belonging to 10 classes.\n"
          ]
        }
      ]
    },
    {
      "cell_type": "code",
      "metadata": {
        "id": "J4FLOVAfc9v0"
      },
      "source": [
        "#SETTING THE CALLBACK\n",
        "import datetime\n",
        "\n",
        "def create_tensorboard_callback(dir_name, experiment_name):\n",
        "  log_dir = dir_name + \"/\" + experiment_name + \"/\" + datetime.datetime.now().strftime(\"%Y%m%d-%H%M%S\")\n",
        "  tensorboard_callback = tf.keras.callbacks.TensorBoard(\n",
        "      log_dir=log_dir\n",
        "  )\n",
        "  print(f\"Saving TensorBoard log files to: {log_dir}\")\n",
        "  return tensorboard_callback"
      ],
      "execution_count": null,
      "outputs": []
    },
    {
      "cell_type": "code",
      "metadata": {
        "id": "83ZfhDc6ggth"
      },
      "source": [
        "comparing two models"
      ],
      "execution_count": null,
      "outputs": []
    },
    {
      "cell_type": "code",
      "metadata": {
        "id": "8T-UDQoDu2yj"
      },
      "source": [
        "# Resnet 50 V2 feature vector\n",
        "resnet_url = \"https://tfhub.dev/google/imagenet/resnet_v2_50/feature_vector/4\"\n",
        "\n",
        "# Original: EfficientNetB0 feature vector (version 1)\n",
        "efficientnet_url = \"https://tfhub.dev/tensorflow/efficientnet/b0/feature-vector/1\"\n",
        "\n",
        "# # New: EfficientNetB0 feature vector (version 2)\n",
        "# efficientnet_url = \"https://tfhub.dev/google/imagenet/efficientnet_v2_imagenet1k_b0/feature_vector/2\" "
      ],
      "execution_count": null,
      "outputs": []
    }
  ]
}